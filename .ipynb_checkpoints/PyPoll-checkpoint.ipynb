{
 "cells": [
  {
   "cell_type": "markdown",
   "metadata": {},
   "source": [
    "## PyPoll\n",
    "\n",
    "* In this challenge, you are tasked with helping a small, rural town modernize its vote counting process.\n",
    "\n",
    "* You will be give a set of poll data called [election_data.csv](PyPoll/Resources/election_data.csv). The dataset is composed of three columns: `Voter ID`, `County`, and `Candidate`. Your task is to create a Python script that analyzes the votes and calculates each of the following:\n",
    "\n",
    "  * The total number of votes cast\n",
    "\n",
    "  * A complete list of candidates who received votes\n",
    "\n",
    "  * The percentage of votes each candidate won\n",
    "\n",
    "  * The total number of votes each candidate won\n",
    "\n",
    "  * The winner of the election based on popular vote.\n",
    "\n",
    "* As an example, your analysis should look similar to the one below:\n",
    "\n",
    "  ```text\n",
    "  Election Results\n",
    "  -------------------------\n",
    "  Total Votes: 3521001\n",
    "  -------------------------\n",
    "  Khan: 63.000% (2218231)\n",
    "  Correy: 20.000% (704200)\n",
    "  Li: 14.000% (492940)\n",
    "  O'Tooley: 3.000% (105630)\n",
    "  -------------------------\n",
    "  Winner: Khan\n",
    "  -------------------------\n",
    "  ```"
   ]
  },
  {
   "cell_type": "code",
   "execution_count": null,
   "metadata": {},
   "outputs": [],
   "source": [
    "# Pseudocode\n",
    "# we are counting\n",
    "\n",
    "# LIST OF THINGS WE NEED TO DO \n",
    "\n",
    "# the total number of votes cast\n",
    "    \n",
    "# a complete list of candidates who received votes\n",
    "\n",
    "# the percentage of votes each candidate won\n",
    "\n",
    "# the total number of votes each candidate won\n",
    "\n",
    "# the winner of the election based on popular vote."
   ]
  },
  {
   "cell_type": "code",
   "execution_count": 102,
   "metadata": {},
   "outputs": [
    {
     "name": "stdout",
     "output_type": "stream",
     "text": [
      "Election Results\n",
      "-------------------------\n",
      "Total votes cast =  99\n",
      "-------------------------\n",
      "Correy : 18.18 % ( 18 )\n",
      "Li : 8.08 % ( 8 )\n",
      "Khan : 71.72 % ( 71 )\n",
      "O'Tooley : 2.02 % ( 2 )\n",
      "-------------------------\n"
     ]
    }
   ],
   "source": [
    "import csv\n",
    "\n",
    "voter_id =[]\n",
    "county = []\n",
    "candidate = []\n",
    "\n",
    "print( \"Election Results\")\n",
    "print(\"-------------------------\")\n",
    "with open('python-challenge/PyPoll/Resources/election_data_small.csv') as f:\n",
    "    data = csv.reader(f)\n",
    "    for row in data:\n",
    "#         print (row)\n",
    "        voter_id.append(row[0])\n",
    "        county.append(row[1])\n",
    "        candidate.append(row[2])\n",
    "#     remove headers\n",
    "del  voter_id[0]\n",
    "del    county[0]    \n",
    "del candidate[0]  \n",
    "\n",
    "# find the total number of votes cast\n",
    "# total votes = total number of people who voted assuming we vote once. \n",
    "print(\"Total votes cast = \", len(voter_id))\n",
    "print (\"-------------------------\")\n",
    "# percentage of votes each candidate won\n",
    "dict = {}\n",
    "total_votes =len(candidate)\n",
    "\n",
    "for a_candidate in set(candidate):\n",
    "    votes = candidate.count(a_candidate)\n",
    "    percentage = 100*(votes/total_votes)\n",
    "    percentage = \"%.2f\" % percentage\n",
    "    print (\n",
    "           a_candidate, \n",
    "           \":\",\n",
    "          percentage,\"%\",\"(\",votes,\n",
    "          \")\")\n",
    "    \n",
    "print (\"-------------------------\")\n",
    "    "
   ]
  },
  {
   "cell_type": "code",
   "execution_count": null,
   "metadata": {},
   "outputs": [],
   "source": []
  },
  {
   "cell_type": "code",
   "execution_count": 50,
   "metadata": {},
   "outputs": [
    {
     "name": "stdout",
     "output_type": "stream",
     "text": [
      "voter_id, county and candidate lists created!\n"
     ]
    }
   ],
   "source": [
    "import csv\n",
    "\n",
    "voter_id =[]\n",
    "county = []\n",
    "candidate = []\n",
    "\n",
    "with open('python-challenge/PyPoll/Resources/election_data_small.csv') as f:\n",
    "    data = csv.reader(f)\n",
    "    for row in data:\n",
    "#         print (row)\n",
    "        voter_id.append(row[0])\n",
    "        county.append(row[1])\n",
    "        candidate.append(row[2])\n",
    "#     remove headers\n",
    "del  voter_id[0]\n",
    "del    county[0]    \n",
    "del candidate[0]  \n",
    "print(\"voter_id, county and candidate lists created!\")"
   ]
  },
  {
   "cell_type": "code",
   "execution_count": 51,
   "metadata": {},
   "outputs": [
    {
     "name": "stdout",
     "output_type": "stream",
     "text": [
      "Total votes cast =  99 #in reality we have 3 million\n"
     ]
    }
   ],
   "source": [
    "# find the total number of votes cast\n",
    "# total votes = total number of people who voted assuming we vote once. \n",
    "print(\"Total votes cast = \", len(voter_id), \"#in reality we have 3 million\")"
   ]
  },
  {
   "cell_type": "code",
   "execution_count": 52,
   "metadata": {},
   "outputs": [
    {
     "name": "stdout",
     "output_type": "stream",
     "text": [
      "Unique Candidates = {'Correy', 'Li', 'Khan', \"O'Tooley\"}\n",
      "Uniique Counties =  {'Queen', 'Raffah', 'Trandee', 'Marsh', 'Bamoo'}\n"
     ]
    }
   ],
   "source": [
    "# a complete list of candidates who received votes\n",
    "# identify unique elements all unique elements\n",
    "print (\"Unique Candidates =\",set(candidate))\n",
    "print (\"Uniique Counties = \", set(county))"
   ]
  },
  {
   "cell_type": "code",
   "execution_count": 81,
   "metadata": {},
   "outputs": [
    {
     "name": "stdout",
     "output_type": "stream",
     "text": [
      "total votes that Correy received =  18.181818181818183 % of 18 votes\n",
      "total votes that Li received =  8.080808080808081 % of 8 votes\n",
      "total votes that Khan received =  71.71717171717171 % of 71 votes\n",
      "total votes that O'Tooley received =  2.0202020202020203 % of 2 votes\n"
     ]
    }
   ],
   "source": [
    "# percentage of votes each candidate won\n",
    "dict = {}\n",
    "total_votes =len(candidate)\n",
    "\n",
    "for a_candidate in set(candidate):\n",
    "    votes = candidate.count(a_candidate)\n",
    "    percentage = 100*(votes/total_votes)\n",
    "    print (\"total votes that\",\n",
    "           a_candidate, \n",
    "           \"received = \",\n",
    "          percentage,\"%\",\"of\",votes,\n",
    "          \"votes\")\n",
    "    \n",
    "    "
   ]
  },
  {
   "cell_type": "code",
   "execution_count": 86,
   "metadata": {},
   "outputs": [
    {
     "name": "stdout",
     "output_type": "stream",
     "text": [
      "71\n",
      "18\n"
     ]
    },
    {
     "data": {
      "text/plain": [
       "'x'"
      ]
     },
     "execution_count": 86,
     "metadata": {},
     "output_type": "execute_result"
    }
   ],
   "source": [
    "print(candidate.count(\"Khan\"))\n",
    "print(candidate.count(\"Correy\"))\n"
   ]
  },
  {
   "cell_type": "code",
   "execution_count": 75,
   "metadata": {
    "scrolled": true
   },
   "outputs": [
    {
     "name": "stdout",
     "output_type": "stream",
     "text": [
      "{'Correy', 'Li', 'Khan', \"O'Tooley\"}\n",
      "{'Correy': 18, 'Li': 8, 'Khan': 71, \"O'Tooley\": 2}\n",
      "dict_values([18, 8, 71, 2])\n",
      "71\n"
     ]
    },
    {
     "data": {
      "text/plain": [
       "dict_keys(['Correy', 'Li', 'Khan', \"O'Tooley\"])"
      ]
     },
     "execution_count": 75,
     "metadata": {},
     "output_type": "execute_result"
    }
   ],
   "source": [
    "main_candidates =set(candidate)\n",
    "candidate_votes ={}\n",
    "\n",
    "for name in main_candidates:\n",
    "    candidate_votes[name] = candidate.count(name)\n",
    "\n",
    "print (main_candidates)\n",
    "print(candidate_votes)\n",
    "\n",
    "final_votes = candidate_votes.values()\n",
    "print (final_votes)\n",
    "print (sorted(final_votes)[-1])\n",
    "candidate_votes.keys()\n",
    "\n",
    "# position = final_votes.index(sorted(final_votes)[-1])\n",
    "# print (position)"
   ]
  },
  {
   "cell_type": "code",
   "execution_count": 92,
   "metadata": {},
   "outputs": [
    {
     "name": "stdout",
     "output_type": "stream",
     "text": [
      "THIS WORKS!!!\n",
      "['Khan']\n"
     ]
    }
   ],
   "source": [
    "print (\"THIS WORKS!!!\")\n",
    "winner = [key  for (key, value) in candidate_votes.items() \n",
    "              if value == sorted(final_votes)[-1]]\n",
    "print(winner)"
   ]
  },
  {
   "cell_type": "code",
   "execution_count": 91,
   "metadata": {},
   "outputs": [
    {
     "name": "stdout",
     "output_type": "stream",
     "text": [
      "THIS WORKS!!!\n",
      "{'Correy': 18, 'Li': 8, 'Khan': 71, \"O'Tooley\": 2}\n",
      "Khan\n"
     ]
    }
   ],
   "source": [
    "print (\"THIS WORKS!!!\")\n",
    "print(candidate_votes )\n",
    "key_list = list(candidate_votes.keys())\n",
    "values_list = list(candidate_votes.values())\n",
    "#print key with values \n",
    "position =values_list.index(sorted(final_votes)[-1])\n",
    "print(key_list[position])"
   ]
  },
  {
   "cell_type": "code",
   "execution_count": null,
   "metadata": {},
   "outputs": [],
   "source": [
    "# who wins AKA who has highest votes\n",
    "#person with highest percentage.\n",
    "\n",
    "# if a_candidate results is more than 0 then winner\n",
    "# look at candidate and give highest value and find winner"
   ]
  },
  {
   "cell_type": "code",
   "execution_count": null,
   "metadata": {},
   "outputs": [],
   "source": []
  },
  {
   "cell_type": "code",
   "execution_count": null,
   "metadata": {},
   "outputs": [],
   "source": []
  }
 ],
 "metadata": {
  "kernelspec": {
   "display_name": "Python 3",
   "language": "python",
   "name": "python3"
  },
  "language_info": {
   "codemirror_mode": {
    "name": "ipython",
    "version": 3
   },
   "file_extension": ".py",
   "mimetype": "text/x-python",
   "name": "python",
   "nbconvert_exporter": "python",
   "pygments_lexer": "ipython3",
   "version": "3.7.6"
  }
 },
 "nbformat": 4,
 "nbformat_minor": 4
}
